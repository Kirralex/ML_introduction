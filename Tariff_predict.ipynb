{
 "cells": [
  {
   "cell_type": "markdown",
   "metadata": {},
   "source": [
    "# Рекомендация тарифов"
   ]
  },
  {
   "cell_type": "markdown",
   "metadata": {},
   "source": [
    "В вашем распоряжении данные о поведении клиентов, которые уже перешли на эти тарифы (из проекта курса «Статистический анализ данных»). Нужно построить модель для задачи классификации, которая выберет подходящий тариф. Предобработка данных не понадобится — вы её уже сделали.\n",
    "\n",
    "Постройте модель с максимально большим значением *accuracy*. Чтобы сдать проект успешно, нужно довести долю правильных ответов по крайней мере до 0.75. Проверьте *accuracy* на тестовой выборке самостоятельно."
   ]
  },
  {
   "cell_type": "markdown",
   "metadata": {},
   "source": [
    "## Откройте и изучите файл\n",
    "Импортируем все нужные для дальнейшего анализа библиотеки и посмотрим первичную информацию по датасету"
   ]
  },
  {
   "cell_type": "code",
   "execution_count": 32,
   "metadata": {},
   "outputs": [
    {
     "name": "stdout",
     "output_type": "stream",
     "text": [
      "<class 'pandas.core.frame.DataFrame'>\n",
      "RangeIndex: 3214 entries, 0 to 3213\n",
      "Data columns (total 5 columns):\n",
      " #   Column    Non-Null Count  Dtype  \n",
      "---  ------    --------------  -----  \n",
      " 0   calls     3214 non-null   float64\n",
      " 1   minutes   3214 non-null   float64\n",
      " 2   messages  3214 non-null   float64\n",
      " 3   mb_used   3214 non-null   float64\n",
      " 4   is_ultra  3214 non-null   int64  \n",
      "dtypes: float64(4), int64(1)\n",
      "memory usage: 125.7 KB\n"
     ]
    }
   ],
   "source": [
    "# импортируем нужные библиотеки и структуры данных\n",
    "import pandas as pd\n",
    "import warnings\n",
    "from IPython.display import display\n",
    "from sklearn.model_selection import train_test_split #разделение на выборки\n",
    "from sklearn.tree import DecisionTreeClassifier #дерево решений\n",
    "from sklearn.ensemble import RandomForestClassifier #случайный лес\n",
    "from sklearn.linear_model import LogisticRegression #логистическая регрессия\n",
    "import matplotlib.pyplot as plt\n",
    "\n",
    "#пандас слишком ругается на мои методы\n",
    "warnings.filterwarnings(\"ignore\")\n",
    "\n",
    "df = pd.read_csv('datasets/users_behavior.csv')\n",
    "df.info()"
   ]
  },
  {
   "cell_type": "markdown",
   "metadata": {},
   "source": [
    "Как упоминалось в описании, в данном датасете содержатся данные о клиентах \"Мегалайн\", которые уже перешли на какой-то из тарифов:\n",
    "1. Количество звонков за месяц\n",
    "2. Количество минут за месяц\n",
    "3. Количество сообщений за месяц\n",
    "4. Количество потраченных мегабайт за месяц\n",
    "5. Факт подключения тарифа ultra (1 - подключён ultra, 0 - smart)\n",
    "\n",
    "Датасет был предоставлен уже предобработанным, поэтому можно приступать к разбиению данных на выборки и работой с моделями."
   ]
  },
  {
   "cell_type": "markdown",
   "metadata": {},
   "source": [
    "## Разбейте данные на выборки\n",
    "Перед созданием и работой с моделями, разобьём имеющиеся данные на три выборки: обучающую, валидационную и тестовую. Выбираться они будут в соотношении 60:20:20, это наиболее применяемое в машинном обучении соотношение.\n",
    "\n",
    "### Выделение обычных и целевых признаков\n",
    "Для начала выделим в датасете признаки и целевой признак, которые будут записаны в переменных features и target соответственно. "
   ]
  },
  {
   "cell_type": "code",
   "execution_count": 33,
   "metadata": {},
   "outputs": [
    {
     "data": {
      "text/plain": [
       "'Признаки\\n'"
      ]
     },
     "metadata": {},
     "output_type": "display_data"
    },
    {
     "data": {
      "text/html": [
       "<div>\n",
       "<style scoped>\n",
       "    .dataframe tbody tr th:only-of-type {\n",
       "        vertical-align: middle;\n",
       "    }\n",
       "\n",
       "    .dataframe tbody tr th {\n",
       "        vertical-align: top;\n",
       "    }\n",
       "\n",
       "    .dataframe thead th {\n",
       "        text-align: right;\n",
       "    }\n",
       "</style>\n",
       "<table border=\"1\" class=\"dataframe\">\n",
       "  <thead>\n",
       "    <tr style=\"text-align: right;\">\n",
       "      <th></th>\n",
       "      <th>calls</th>\n",
       "      <th>minutes</th>\n",
       "      <th>messages</th>\n",
       "      <th>mb_used</th>\n",
       "    </tr>\n",
       "  </thead>\n",
       "  <tbody>\n",
       "    <tr>\n",
       "      <th>0</th>\n",
       "      <td>40.0</td>\n",
       "      <td>311.90</td>\n",
       "      <td>83.0</td>\n",
       "      <td>19915.42</td>\n",
       "    </tr>\n",
       "    <tr>\n",
       "      <th>1</th>\n",
       "      <td>85.0</td>\n",
       "      <td>516.75</td>\n",
       "      <td>56.0</td>\n",
       "      <td>22696.96</td>\n",
       "    </tr>\n",
       "    <tr>\n",
       "      <th>2</th>\n",
       "      <td>77.0</td>\n",
       "      <td>467.66</td>\n",
       "      <td>86.0</td>\n",
       "      <td>21060.45</td>\n",
       "    </tr>\n",
       "    <tr>\n",
       "      <th>3</th>\n",
       "      <td>106.0</td>\n",
       "      <td>745.53</td>\n",
       "      <td>81.0</td>\n",
       "      <td>8437.39</td>\n",
       "    </tr>\n",
       "    <tr>\n",
       "      <th>4</th>\n",
       "      <td>66.0</td>\n",
       "      <td>418.74</td>\n",
       "      <td>1.0</td>\n",
       "      <td>14502.75</td>\n",
       "    </tr>\n",
       "    <tr>\n",
       "      <th>...</th>\n",
       "      <td>...</td>\n",
       "      <td>...</td>\n",
       "      <td>...</td>\n",
       "      <td>...</td>\n",
       "    </tr>\n",
       "    <tr>\n",
       "      <th>3209</th>\n",
       "      <td>122.0</td>\n",
       "      <td>910.98</td>\n",
       "      <td>20.0</td>\n",
       "      <td>35124.90</td>\n",
       "    </tr>\n",
       "    <tr>\n",
       "      <th>3210</th>\n",
       "      <td>25.0</td>\n",
       "      <td>190.36</td>\n",
       "      <td>0.0</td>\n",
       "      <td>3275.61</td>\n",
       "    </tr>\n",
       "    <tr>\n",
       "      <th>3211</th>\n",
       "      <td>97.0</td>\n",
       "      <td>634.44</td>\n",
       "      <td>70.0</td>\n",
       "      <td>13974.06</td>\n",
       "    </tr>\n",
       "    <tr>\n",
       "      <th>3212</th>\n",
       "      <td>64.0</td>\n",
       "      <td>462.32</td>\n",
       "      <td>90.0</td>\n",
       "      <td>31239.78</td>\n",
       "    </tr>\n",
       "    <tr>\n",
       "      <th>3213</th>\n",
       "      <td>80.0</td>\n",
       "      <td>566.09</td>\n",
       "      <td>6.0</td>\n",
       "      <td>29480.52</td>\n",
       "    </tr>\n",
       "  </tbody>\n",
       "</table>\n",
       "<p>3214 rows × 4 columns</p>\n",
       "</div>"
      ],
      "text/plain": [
       "      calls  minutes  messages   mb_used\n",
       "0      40.0   311.90      83.0  19915.42\n",
       "1      85.0   516.75      56.0  22696.96\n",
       "2      77.0   467.66      86.0  21060.45\n",
       "3     106.0   745.53      81.0   8437.39\n",
       "4      66.0   418.74       1.0  14502.75\n",
       "...     ...      ...       ...       ...\n",
       "3209  122.0   910.98      20.0  35124.90\n",
       "3210   25.0   190.36       0.0   3275.61\n",
       "3211   97.0   634.44      70.0  13974.06\n",
       "3212   64.0   462.32      90.0  31239.78\n",
       "3213   80.0   566.09       6.0  29480.52\n",
       "\n",
       "[3214 rows x 4 columns]"
      ]
     },
     "metadata": {},
     "output_type": "display_data"
    },
    {
     "data": {
      "text/plain": [
       "'Целевой признак\\n'"
      ]
     },
     "metadata": {},
     "output_type": "display_data"
    },
    {
     "data": {
      "text/plain": [
       "0       0\n",
       "1       0\n",
       "2       0\n",
       "3       1\n",
       "4       0\n",
       "       ..\n",
       "3209    1\n",
       "3210    0\n",
       "3211    0\n",
       "3212    0\n",
       "3213    1\n",
       "Name: is_ultra, Length: 3214, dtype: int64"
      ]
     },
     "metadata": {},
     "output_type": "display_data"
    }
   ],
   "source": [
    "#выделим обычные признаки и целевые\n",
    "features = df.drop('is_ultra', axis=1)\n",
    "target = df['is_ultra']\n",
    "\n",
    "display('Признаки\\n', features)\n",
    "display('Целевой признак\\n', target)"
   ]
  },
  {
   "cell_type": "markdown",
   "metadata": {},
   "source": [
    "### Разбиение на выборки\n",
    "После дважды применим функцию train_test_split библиотеки sklearn. В первый раз в соотношении 80 на 20, где 80 процентов занимают обучающая и валидационная выборки и 20 - тестовая. Во второй раз в соотношении 75 к 25, где 75 процентов придётся на обучающую выборку и 25 на валидационную. "
   ]
  },
  {
   "cell_type": "code",
   "execution_count": 34,
   "metadata": {
    "scrolled": true
   },
   "outputs": [
    {
     "name": "stdout",
     "output_type": "stream",
     "text": [
      "Размер обучающей выборки: 1928\n",
      "Размер валидационной выборки: 643\n",
      "Размер тестовой выборки: 643\n"
     ]
    }
   ],
   "source": [
    "# делим выборки на обучающую+валидационную и тестовую\n",
    "features_train, features_test, target_train, target_test = train_test_split(features, \n",
    "                                                                            target, \n",
    "                                                                            test_size=0.2, \n",
    "                                                                            random_state=12189)\n",
    "\n",
    "# обучаюшую+валидационную делим между собой\n",
    "features_train, features_valid, target_train, target_valid = train_test_split(features_train, \n",
    "                                                                              target_train, \n",
    "                                                                              test_size=0.25, \n",
    "                                                                              random_state=12189)\n",
    "\n",
    "# проверяем размеры выборок\n",
    "print('Размер обучающей выборки:', len(target_train))\n",
    "print('Размер валидационной выборки:', len(target_valid))\n",
    "print('Размер тестовой выборки:', len(target_test))"
   ]
  },
  {
   "cell_type": "markdown",
   "metadata": {},
   "source": [
    "Обучающая, валидационная и тестовая выборки готовы. Теперь можно приступить к созданию и обучению моделей."
   ]
  },
  {
   "cell_type": "markdown",
   "metadata": {},
   "source": [
    "## Исследуйте модели\n",
    "Принадлежность к тарифу 'ultra' - это категориальная переменная, следовательно перед нами стоит задача классификации (это уже известно из описания проекта, но стоит повторить). Нашей целью является создание модели, которая наиболее точно классифицирует пользователей в тестовой выборке. \n",
    "\n",
    "В данном проекте будет рассмотрено только три модели классификации: дерево решений, случайный лес и логистическая регрессия. Каждая из них будет по очереди проверена на долю правильных ответов и среди всех мы выберем самую точную."
   ]
  },
  {
   "cell_type": "markdown",
   "metadata": {},
   "source": [
    "### Дерево решений\n",
    "Самая простая модель - это дерево решений. Она обучается быстрее всех вышеперечисленных, но имеет наименьшую точность.\n",
    "\n",
    "Для того, чтобы создать данную модель, импортируем структуру данных 'DecisionTreeClassifier' из библиотеки sklearn и создадим объект этой структуры.\n",
    "\n",
    "Точность модели будет проверена при различных значениях (от 1 до 10). Среди результатов будет выбрана наибольшая."
   ]
  },
  {
   "cell_type": "code",
   "execution_count": 35,
   "metadata": {},
   "outputs": [
    {
     "name": "stdout",
     "output_type": "stream",
     "text": [
      "Наибольшая точность модели дерева решений на валидационной выборке: 0.8087091757387247\n"
     ]
    }
   ],
   "source": [
    "# задаём переменные для определения лучшей модели и лучшего результата точности на валидационной выборке\n",
    "best_model_tree = None #лучшая модель\n",
    "best_result_tree = 0 #лучшая точность\n",
    "\n",
    "# обучаем модель на обучающей выборке и выбираем оптимальную глубину (при которой будет наибольшая точность)\n",
    "for depth in range(1, 11):\n",
    "    model_tree = DecisionTreeClassifier(random_state=12189, max_depth=depth) # создаём объект структуры дерева решений\n",
    "    model_tree.fit(features_train, target_train)\n",
    "    result = model_tree.score(features_valid, target_valid)\n",
    "    if result > best_result_tree:\n",
    "        best_model_tree = model_tree\n",
    "        best_result_tree = result\n",
    "        \n",
    "print('Наибольшая точность модели дерева решений на валидационной выборке:', best_result_tree)"
   ]
  },
  {
   "cell_type": "markdown",
   "metadata": {},
   "source": [
    "80 процентов на валидационной выборке. Достаточно неплохо, но тестовой явно будут различия, причём в худшую сторону. Проверим другие модели."
   ]
  },
  {
   "cell_type": "markdown",
   "metadata": {},
   "source": [
    "### Случайный лес \n",
    "Случайный лес по своей сути является объединением нескольких деревьев решений. Обучается намного дольше, потому что работа идёт с несколькими деревьями, но точность будет выше, чем у просто дерева.\n",
    "\n",
    "Для того, чтобы создать модель случайного леса, импортируем структуру 'RandomForestClassifier' из библиотеки sklearn и создадим объект этой структуры.\n",
    "\n",
    "Точность модели будет проверена при разном количестве деревьев (10, 20, 30, 40 и 50) с разной глубиной (от 1 до 10). Среди них будет выбрана модель с наибольшим результатом правильных предсказаний на валидационной выборке."
   ]
  },
  {
   "cell_type": "code",
   "execution_count": 36,
   "metadata": {},
   "outputs": [
    {
     "name": "stdout",
     "output_type": "stream",
     "text": [
      "Наибольшая точность модели случайного леса на валидационной выборке: 0.8211508553654744\n"
     ]
    }
   ],
   "source": [
    "# задаём переменные для определения лучшей модели и лучшего результата точности на валидационной выборке\n",
    "best_model_forest = None\n",
    "best_result_forest = 0\n",
    "\n",
    "# обучаем модель на обучающей выборке и выбираем опттимальную глубину и количество деревьев, которые покажут лучший результат\n",
    "for est in range(10, 51, 10):\n",
    "    for depth in range(1, 11):\n",
    "        model_forest = RandomForestClassifier(random_state=12189, max_depth=depth, n_estimators=est)\n",
    "        model_forest.fit(features_train, target_train)\n",
    "        result = model_forest.score(features_valid, target_valid)\n",
    "        if result > best_result_forest:\n",
    "            best_model_forest = model_forest\n",
    "            best_result_forest = result\n",
    "            \n",
    "print('Наибольшая точность модели случайного леса на валидационной выборке:', best_result_forest)"
   ]
  },
  {
   "cell_type": "markdown",
   "metadata": {},
   "source": [
    "82 процента на валидационной выборке. Уже лучше дерева решений, но стоит посмотреть результаты у логистической регрессии, вдруг они будут лучше."
   ]
  },
  {
   "cell_type": "markdown",
   "metadata": {},
   "source": [
    "### Логистическая регрессия\n",
    "Логистическая регрессия по своей скорости обучения и точности будет чем-то средним между деревом решений и случайным лесом. \n",
    "\n",
    "Для того, чтобы создать модель логистической регрессии, импортируем структуру 'LogisticRegression' из библиотеки sklearn и создадим обхект этой структуры.\n",
    "\n",
    "У данной модели мало параметров, которые можно менять, поэтому мы проверим её точность только при параметрах по умолчанию."
   ]
  },
  {
   "cell_type": "code",
   "execution_count": 37,
   "metadata": {},
   "outputs": [
    {
     "name": "stdout",
     "output_type": "stream",
     "text": [
      "Точность модели логистической регресси на валидационной выборке: 0.7744945567651633\n"
     ]
    }
   ],
   "source": [
    "# обучаем модель на обучающей выборке\n",
    "best_model_logistic = LogisticRegression(random_state=12189)\n",
    "best_model_logistic.fit(features_train, target_train)\n",
    "result = best_model_logistic.score(features_valid, target_valid)\n",
    "\n",
    "# для удобства сохраняем результаты в других переменных\n",
    "best_result_logistic = result\n",
    "\n",
    "print('Точность модели логистической регресси на валидационной выборке:', best_result_logistic)"
   ]
  },
  {
   "cell_type": "markdown",
   "metadata": {},
   "source": [
    "Точность модели логистической регресии, как и предполагалось, выше точности дерева, но меньше точности случайного леса.\n",
    "\n",
    "Мы рассмотрели три модели и пришли к выводу, что самой точной для данной задачи будет модель случайного леса. "
   ]
  },
  {
   "cell_type": "markdown",
   "metadata": {},
   "source": [
    "## Проверьте модель на тестовой выборке\n",
    "На валидационной выборке лучшую точность показала модель случайного леса. Поэтому проверим её на тестовой выборке."
   ]
  },
  {
   "cell_type": "code",
   "execution_count": 38,
   "metadata": {},
   "outputs": [
    {
     "data": {
      "text/plain": [
       "0.7916018662519441"
      ]
     },
     "execution_count": 38,
     "metadata": {},
     "output_type": "execute_result"
    }
   ],
   "source": [
    "# смотрим точность выбранной модели на тестовой выборки\n",
    "best_model_forest.score(features_test, target_test)"
   ]
  },
  {
   "cell_type": "markdown",
   "metadata": {},
   "source": [
    "Точность предсказаний немного упала, но всё равно держится на достаточно высоком уровне.\n",
    "\n",
    "Проверив работу модели на тестовой выборке, приходим к тому, что лучше всего себя в данной задаче показывает модель случайного леса. Её точность превысила 0.75, задание выполнено."
   ]
  },
  {
   "cell_type": "markdown",
   "metadata": {},
   "source": [
    "## (бонус) Проверьте модели на адекватность\n",
    "Теперь проверим самую точную модель на адекватность. Адекватность модели определяется пригодностью для решения поставленной задачи.\n",
    "\n",
    "Для того, чтобы это сделать, построим гистограму верного результата, а также предсказаний на модели случайного леса."
   ]
  },
  {
   "cell_type": "code",
   "execution_count": 39,
   "metadata": {},
   "outputs": [
    {
     "data": {
      "image/png": "[encoded data removed]",
      "text/plain": [
       "<Figure size 432x288 with 1 Axes>"
      ]
     },
     "metadata": {
      "needs_background": "light"
     },
     "output_type": "display_data"
    },
    {
     "data": {
      "image/png": "[encoded data removed]",
      "text/plain": [
       "<Figure size 432x288 with 1 Axes>"
      ]
     },
     "metadata": {
      "needs_background": "light"
     },
     "output_type": "display_data"
    }
   ],
   "source": [
    "# гистограмма целевого признака у тестовой выборки\n",
    "target_test.value_counts().plot(kind='bar', rot=0) #строим гистограмму\n",
    "plt.title('Гистограмма исходных значений')\n",
    "plt.show()\n",
    "\n",
    "# гистограмма целевого признака предсказаний по предсказаниям модели\n",
    "predict_forest = pd.Series(best_model_forest.predict(features_test)) # получаем массив предсказаний лучшей моделью\n",
    "predict_forest.value_counts().plot(kind='bar', rot=0) #строим гистограмму\n",
    "plt.title('Гистограмма предсказанных значений')\n",
    "plt.show()"
   ]
  },
  {
   "cell_type": "markdown",
   "metadata": {},
   "source": [
    "По гистограммам видим, что значения сильно отличаются: '1' почти на сотню меньше в Series предсказанных значений. Но это и не удивительно, точность модели на тестовой выборке равна 79%. По сути каждое пятое предсказание неверно. Если смотреть в общем, то гистограммы всё равно похожи и уже из них можно сделать вывод об адекватности модели.\n",
    "\n",
    "Для того, чтобы точно удостовериться в этом, сравним статистические метрики: среднее и дисперсию."
   ]
  },
  {
   "cell_type": "code",
   "execution_count": 40,
   "metadata": {},
   "outputs": [
    {
     "name": "stdout",
     "output_type": "stream",
     "text": [
      "Дисперсия исходных значений: 0.21\n",
      "Дисперсия предсказанных моделью значений: 0.15 \n",
      "\n",
      "Среднее исходных значений: 0.31\n",
      "Среднее предсказанных моделью значений 0.19\n"
     ]
    }
   ],
   "source": [
    "# находим дисперсию и среднее исходных значений\n",
    "start_var = target_test.var()\n",
    "start_mean = target_test.mean()\n",
    "\n",
    "# находим дисперсию и среднее предсказанных значений\n",
    "predict_var = predict_forest.var()\n",
    "predict_mean = predict_forest.mean()\n",
    "\n",
    "print('Дисперсия исходных значений:', round(start_var, 2))\n",
    "print('Дисперсия предсказанных моделью значений:', round(predict_var, 2), '\\n')\n",
    "\n",
    "print('Среднее исходных значений:', round(start_mean, 2))\n",
    "print('Среднее предсказанных моделью значений', round(predict_mean, 2))"
   ]
  },
  {
   "cell_type": "markdown",
   "metadata": {},
   "source": [
    "Дисперсия у обоих Series отличается очень слабо. Среднее у них разнится больше, но это связано тем, что у результатов модели на целую сотню больше нулей и соответственно меньше единиц.\n",
    "\n",
    "Самым точной проверкой на адекватность будет проверка сравнение с модель DummyClassifier - фиктивным классификатором, который зачастую даёт случайные ответы."
   ]
  },
  {
   "cell_type": "code",
   "execution_count": 41,
   "metadata": {},
   "outputs": [
    {
     "data": {
      "text/plain": [
       "0.6905132192846034"
      ]
     },
     "execution_count": 41,
     "metadata": {},
     "output_type": "execute_result"
    }
   ],
   "source": [
    "from sklearn.dummy import DummyClassifier #импортируем фиктивный классификатор\n",
    "\n",
    "dummy_model = DummyClassifier(strategy=\"most_frequent\") #создаём объект структуры данныъ DummyClassifier\n",
    "dummy_model.fit(features_train, target_train) #обучаем модель на обучающей выборке\n",
    "dummy_model.score(features_test, target_test) #проверяем точность модели"
   ]
  },
  {
   "cell_type": "markdown",
   "metadata": {},
   "source": [
    "Как мы помним, точность случайного леса на тестовых данных равнялась 79%, что на 10% больше результата фиктивной модели.\n",
    "\n",
    "Из всех вышепроведённых проверок можем сделать вывод, что модель прошла проверку на адекватность."
   ]
  },
  {
   "cell_type": "markdown",
   "metadata": {},
   "source": [
    "## Общий вывод"
   ]
  },
  {
   "cell_type": "markdown",
   "metadata": {},
   "source": [
    "В данном проекте мы получили датасет с данными клиентов, перешедших на один из тарифов 'Мегалайна', разделили его на три выборки: обучающую, валидационную и тестовую.\n",
    "\n",
    "После этого мы обучили три вида моделей на обучающей выборке: дерево решений, случайный лес и логистическую регрессию. Далее мы выбрали ту, что показала наилучший результат на валидационной выборке. Ей оказалась модель случайного леса, она показала точность 79 процентов на тестовой выборке.\n",
    "\n",
    "В качестве дополнительного исследования мы провели проверку на адекватность на лучшей модели, её пригодность для выполнения данной задачи, и пришли к выводу, что она её прошла."
   ]
  },
  {
   "cell_type": "markdown",
   "metadata": {},
   "source": [
    "## Чек-лист готовности проекта"
   ]
  },
  {
   "cell_type": "markdown",
   "metadata": {},
   "source": [
    "Поставьте 'x' в выполненных пунктах. Далее нажмите Shift+Enter."
   ]
  },
  {
   "cell_type": "markdown",
   "metadata": {},
   "source": [
    "- [x] Jupyter Notebook открыт\n",
    "- [x] Весь код исполняется без ошибок\n",
    "- [x] Ячейки с кодом расположены в порядке исполнения\n",
    "- [x] Выполнено задание 1: данные загружены и изучены\n",
    "- [x] Выполнено задание 2: данные разбиты на три выборки\n",
    "- [x] Выполнено задание 3: проведено исследование моделей\n",
    "    - [x] Рассмотрено больше одной модели\n",
    "    - [x] Рассмотрено хотя бы 3 значения гипепараметров для какой-нибудь модели\n",
    "    - [x] Написаны выводы по результатам исследования\n",
    "- [x] Выполнено задание 3: Проведено тестирование\n",
    "- [x] Удалось достичь accuracy не меньше 0.75\n"
   ]
  },
  {
   "cell_type": "code",
   "execution_count": null,
   "metadata": {},
   "outputs": [],
   "source": []
  }
 ],
 "metadata": {
  "kernelspec": {
   "display_name": "Python 3",
   "language": "python",
   "name": "python3"
  },
  "language_info": {
   "codemirror_mode": {
    "name": "ipython",
    "version": 3
   },
   "file_extension": ".py",
   "mimetype": "text/x-python",
   "name": "python",
   "nbconvert_exporter": "python",
   "pygments_lexer": "ipython3",
   "version": "3.8.5"
  },
  "toc": {
   "base_numbering": 1,
   "nav_menu": {},
   "number_sections": true,
   "sideBar": true,
   "skip_h1_title": true,
   "title_cell": "Table of Contents",
   "title_sidebar": "Contents",
   "toc_cell": false,
   "toc_position": {},
   "toc_section_display": true,
   "toc_window_display": false
  }
 },
 "nbformat": 4,
 "nbformat_minor": 2
}
